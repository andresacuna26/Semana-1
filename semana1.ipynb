{
  "nbformat": 4,
  "nbformat_minor": 0,
  "metadata": {
    "colab": {
      "provenance": [],
      "authorship_tag": "ABX9TyNHPDX4DN9Lp1Hf3SlHPw9K",
      "include_colab_link": true
    },
    "kernelspec": {
      "name": "python3",
      "display_name": "Python 3"
    },
    "language_info": {
      "name": "python"
    }
  },
  "cells": [
    {
      "cell_type": "markdown",
      "metadata": {
        "id": "view-in-github",
        "colab_type": "text"
      },
      "source": [
        "<a href=\"https://colab.research.google.com/github/andresacuna26/Semana-1/blob/main/semana1.ipynb\" target=\"_parent\"><img src=\"https://colab.research.google.com/assets/colab-badge.svg\" alt=\"Open In Colab\"/></a>"
      ]
    },
    {
      "cell_type": "code",
      "execution_count": 1,
      "metadata": {
        "colab": {
          "base_uri": "https://localhost:8080/"
        },
        "id": "LGhkMXye9-R2",
        "outputId": "0e0f9ace-86d8-487e-c3bc-7c61471da4b4"
      },
      "outputs": [
        {
          "output_type": "stream",
          "name": "stdout",
          "text": [
            "Datos del Estudiante:\n",
            "Nombre: Juan Pérez\n",
            "Edad: 20 años\n",
            "¿Cuál es tu asignatura favorita? Programación\n",
            "¡Qué bien! Tu asignatura favorita es Programación.\n"
          ]
        }
      ],
      "source": [
        "# 1. Variables y tipos de datos\n",
        "nombre_estudiante = \"Juan Pérez\"\n",
        "edad = 20\n",
        "promedio = 4.2\n",
        "es_regular = True\n",
        "# 2. La función print() para mostrar información\n",
        "print(\"Datos del Estudiante:\")\n",
        "print(\"Nombre:\", nombre_estudiante)\n",
        "print(f\"Edad: {edad} años\") # Usando f-strings, una forma moderna y útil\n",
        "# 3. La función input() para recibir datos del usuario\n",
        "asignatura_favorita = input(\"¿Cuál es tu asignatura favorita? \")\n",
        "print(f\"¡Qué bien! Tu asignatura favorita es {asignatura_favorita}.\")\n"
      ]
    },
    {
      "cell_type": "code",
      "source": [
        "# Definir dos números\n",
        "numero1 = 15 # Primer número\n",
        "numero2 = 5  # Segundo número\n",
        "\n",
        "# Realizar operaciones aritméticas\n",
        "suma = numero1 + numero2         # Suma de los dos números\n",
        "resta = numero1 - numero2        # Resta del segundo número al primero\n",
        "multiplicacion = numero1 * numero2 # Multiplicación de los dos números\n",
        "division = numero1 / numero2       # División del primer número entre el segundo\n",
        "\n",
        "# Mostrar los resultados\n",
        "print(f\"La suma de {numero1} y {numero2} es: {suma}\")             # Imprime el resultado de la suma\n",
        "print(f\"La resta de {numero1} y {numero2} es: {resta}\")           # Imprime el resultado de la resta\n",
        "print(f\"La multiplicación de {numero1} y {numero2} es: {multiplicacion}\") # Imprime el resultado de la multiplicación\n",
        "print(f\"La división de {numero1} entre {numero2} es: {division}\")   # Imprime el resultado de la división"
      ],
      "metadata": {
        "colab": {
          "base_uri": "https://localhost:8080/"
        },
        "id": "14op57y4CYew",
        "outputId": "a884af4b-399d-4f84-c870-78c5c8acd6c4"
      },
      "execution_count": 3,
      "outputs": [
        {
          "output_type": "stream",
          "name": "stdout",
          "text": [
            "La suma de 15 y 5 es: 20\n",
            "La resta de 15 y 5 es: 10\n",
            "La multiplicación de 15 y 5 es: 75\n",
            "La división de 15 entre 5 es: 3.0\n"
          ]
        }
      ]
    }
  ]
}